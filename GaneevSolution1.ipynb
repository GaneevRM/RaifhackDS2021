{
  "nbformat": 4,
  "nbformat_minor": 0,
  "metadata": {
    "colab": {
      "name": "KaggleHome.ipynb",
      "provenance": [],
      "collapsed_sections": []
    },
    "kernelspec": {
      "name": "python3",
      "display_name": "Python 3"
    },
    "language_info": {
      "name": "python"
    }
  },
  "cells": [
    {
      "cell_type": "code",
      "metadata": {
        "id": "rFmgcdZb5SnL"
      },
      "source": [
        "import pandas as pd\n",
        "from sklearn.tree import DecisionTreeRegressor"
      ],
      "execution_count": 101,
      "outputs": []
    },
    {
      "cell_type": "code",
      "metadata": {
        "colab": {
          "base_uri": "https://localhost:8080/"
        },
        "id": "ArZMjzw86Rq3",
        "outputId": "64534d2c-e49d-437d-8097-8b7dd39de3bc"
      },
      "source": [
        "train=pd.read_csv('sample_data/train.csv',encoding='utf-8')\n",
        "test=pd.read_csv('sample_data/test.csv',encoding='utf-8')"
      ],
      "execution_count": 102,
      "outputs": [
        {
          "output_type": "stream",
          "name": "stderr",
          "text": [
            "/usr/local/lib/python3.7/dist-packages/IPython/core/interactiveshell.py:2718: DtypeWarning: Columns (1) have mixed types.Specify dtype option on import or set low_memory=False.\n",
            "  interactivity=interactivity, compiler=compiler, result=result)\n"
          ]
        }
      ]
    },
    {
      "cell_type": "code",
      "metadata": {
        "id": "B6gyiqzN9e1h"
      },
      "source": [
        "y = train.per_square_meter_price"
      ],
      "execution_count": 103,
      "outputs": []
    },
    {
      "cell_type": "code",
      "metadata": {
        "id": "AppyECfB9uub"
      },
      "source": [
        "data_predictors = list(train.dtypes[train.dtypes == \"int64\"].index)\n",
        "data_predictors = data_predictors[:-1]\n",
        "data_predictors"
      ],
      "execution_count": null,
      "outputs": []
    },
    {
      "cell_type": "code",
      "metadata": {
        "id": "J4J9KoEK_Nvv"
      },
      "source": [
        "data_test_predictors = list(test.dtypes[train.dtypes == \"int64\"].index)\n",
        "data_test_predictors = data_test_predictors[:-1]\n",
        "data_test_predictors"
      ],
      "execution_count": null,
      "outputs": []
    },
    {
      "cell_type": "code",
      "metadata": {
        "id": "SIppydwd90aN"
      },
      "source": [
        "X = train[data_predictors]"
      ],
      "execution_count": 106,
      "outputs": []
    },
    {
      "cell_type": "code",
      "metadata": {
        "id": "vsKLkWwN_XHF"
      },
      "source": [
        "X_test = test[data_test_predictors]"
      ],
      "execution_count": 107,
      "outputs": []
    },
    {
      "cell_type": "code",
      "metadata": {
        "colab": {
          "base_uri": "https://localhost:8080/"
        },
        "id": "qYD9ydOf95Vw",
        "outputId": "385aea7d-b0a3-439e-f2e8-79f7d59938fd"
      },
      "source": [
        "model = DecisionTreeRegressor()\n",
        "\n",
        "model.fit(X,y)"
      ],
      "execution_count": 108,
      "outputs": [
        {
          "output_type": "execute_result",
          "data": {
            "text/plain": [
              "DecisionTreeRegressor(ccp_alpha=0.0, criterion='mse', max_depth=None,\n",
              "                      max_features=None, max_leaf_nodes=None,\n",
              "                      min_impurity_decrease=0.0, min_impurity_split=None,\n",
              "                      min_samples_leaf=1, min_samples_split=2,\n",
              "                      min_weight_fraction_leaf=0.0, presort='deprecated',\n",
              "                      random_state=None, splitter='best')"
            ]
          },
          "metadata": {},
          "execution_count": 108
        }
      ]
    },
    {
      "cell_type": "code",
      "metadata": {
        "id": "uFLQYK8m-xth"
      },
      "source": [
        "predict_test = model.predict(X_test)"
      ],
      "execution_count": 109,
      "outputs": []
    },
    {
      "cell_type": "code",
      "metadata": {
        "id": "i-EuxONtBk7Q"
      },
      "source": [
        "test['per_square_meter_price'] = predict_test"
      ],
      "execution_count": 98,
      "outputs": []
    },
    {
      "cell_type": "code",
      "metadata": {
        "id": "30p-Tp2JBmPu"
      },
      "source": [
        "test[['id','per_square_meter_price']].to_csv('subGaneev.csv',header=True,index=False)"
      ],
      "execution_count": 99,
      "outputs": []
    }
  ]
}